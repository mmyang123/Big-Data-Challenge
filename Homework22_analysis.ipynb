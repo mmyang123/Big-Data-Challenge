{
 "cells": [
  {
   "cell_type": "markdown",
   "metadata": {
    "id": "pOMKgthKdyw6"
   },
   "source": [
    "## Analysis for "
   ]
  },
  {
   "cell_type": "code",
   "execution_count": 1,
   "metadata": {
    "executionInfo": {
     "elapsed": 651,
     "status": "ok",
     "timestamp": 1669175884945,
     "user": {
      "displayName": "maimycooking",
      "userId": "04453323271186493674"
     },
     "user_tz": 360
    },
    "id": "gg9kUau6dyAR"
   },
   "outputs": [],
   "source": [
    "import pandas as pd\n",
    "# SQLALchemy\n",
    "from sqlalchemy import create_engine\n",
    "import matplotlib.pyplot as plt\n",
    "import numpy as np\n",
    "\n",
    "password = ''"
   ]
  },
  {
   "cell_type": "markdown",
   "metadata": {
    "id": "-zZGjgPslcKX"
   },
   "source": [
    "#### Connect to Postgres SQL database"
   ]
  },
  {
   "cell_type": "code",
   "execution_count": 2,
   "metadata": {
    "executionInfo": {
     "elapsed": 1238,
     "status": "ok",
     "timestamp": 1669175889346,
     "user": {
      "displayName": "maimycooking",
      "userId": "04453323271186493674"
     },
     "user_tz": 360
    },
    "id": "rnC8wvjqbLta"
   },
   "outputs": [],
   "source": [
    "# Create an engine that can talk can talk to the database\n",
    "engine = create_engine('postgresql://postgres:' + password + '@mypostgresdb.c9jigtwo0en4.us-east-2.rds.amazonaws.com:5432/my_data_class_db')\n",
    "connection = engine.connect()"
   ]
  },
  {
   "cell_type": "markdown",
   "metadata": {
    "id": "KMgNor-9lg8t"
   },
   "source": [
    "#### Read review data from SQL database"
   ]
  },
  {
   "cell_type": "code",
   "execution_count": 3,
   "metadata": {
    "executionInfo": {
     "elapsed": 26712,
     "status": "ok",
     "timestamp": 1669175917572,
     "user": {
      "displayName": "maimycooking",
      "userId": "04453323271186493674"
     },
     "user_tz": 360
    },
    "id": "1ZX5lsL3b9Ts"
   },
   "outputs": [],
   "source": [
    "review_df = pd.read_sql('select * from review_id_table',connection)"
   ]
  },
  {
   "cell_type": "code",
   "execution_count": 4,
   "metadata": {
    "colab": {
     "base_uri": "https://localhost:8080/",
     "height": 363
    },
    "executionInfo": {
     "elapsed": 131,
     "status": "ok",
     "timestamp": 1669175940379,
     "user": {
      "displayName": "maimycooking",
      "userId": "04453323271186493674"
     },
     "user_tz": 360
    },
    "id": "5nrs8_srcGAq",
    "outputId": "2948d1e1-da55-43f9-8c94-7280ecce258a"
   },
   "outputs": [
    {
     "data": {
      "text/html": [
       "\n",
       "  <div id=\"df-6b0c29f1-2fc9-417a-a12b-54a0b26c254b\">\n",
       "    <div class=\"colab-df-container\">\n",
       "      <div>\n",
       "<style scoped>\n",
       "    .dataframe tbody tr th:only-of-type {\n",
       "        vertical-align: middle;\n",
       "    }\n",
       "\n",
       "    .dataframe tbody tr th {\n",
       "        vertical-align: top;\n",
       "    }\n",
       "\n",
       "    .dataframe thead th {\n",
       "        text-align: right;\n",
       "    }\n",
       "</style>\n",
       "<table border=\"1\" class=\"dataframe\">\n",
       "  <thead>\n",
       "    <tr style=\"text-align: right;\">\n",
       "      <th></th>\n",
       "      <th>review_id</th>\n",
       "      <th>customer_id</th>\n",
       "      <th>product_id</th>\n",
       "      <th>product_parent</th>\n",
       "      <th>review_date</th>\n",
       "    </tr>\n",
       "  </thead>\n",
       "  <tbody>\n",
       "    <tr>\n",
       "      <th>0</th>\n",
       "      <td>R10005JR1IGG86</td>\n",
       "      <td>11648838</td>\n",
       "      <td>B006TZD3UE</td>\n",
       "      <td>901709591</td>\n",
       "      <td>2015-05-16</td>\n",
       "    </tr>\n",
       "    <tr>\n",
       "      <th>1</th>\n",
       "      <td>R1000B8KVRGOT6</td>\n",
       "      <td>44638290</td>\n",
       "      <td>B0055QMWQ4</td>\n",
       "      <td>198494984</td>\n",
       "      <td>2011-11-03</td>\n",
       "    </tr>\n",
       "    <tr>\n",
       "      <th>2</th>\n",
       "      <td>R1000CD3O7K5WJ</td>\n",
       "      <td>38782999</td>\n",
       "      <td>B001WAJ1VG</td>\n",
       "      <td>543653291</td>\n",
       "      <td>2013-12-30</td>\n",
       "    </tr>\n",
       "    <tr>\n",
       "      <th>3</th>\n",
       "      <td>R1000FU14WWHDX</td>\n",
       "      <td>42582359</td>\n",
       "      <td>B00685TZ7U</td>\n",
       "      <td>65032446</td>\n",
       "      <td>2014-10-12</td>\n",
       "    </tr>\n",
       "    <tr>\n",
       "      <th>4</th>\n",
       "      <td>R1000K64W2C84Z</td>\n",
       "      <td>48529991</td>\n",
       "      <td>B005XA6VNM</td>\n",
       "      <td>597885458</td>\n",
       "      <td>2012-07-25</td>\n",
       "    </tr>\n",
       "    <tr>\n",
       "      <th>5</th>\n",
       "      <td>R1000PP8QPZI4X</td>\n",
       "      <td>1377334</td>\n",
       "      <td>B0088UR61A</td>\n",
       "      <td>705684231</td>\n",
       "      <td>2014-07-13</td>\n",
       "    </tr>\n",
       "    <tr>\n",
       "      <th>6</th>\n",
       "      <td>R1000SBIDE1D05</td>\n",
       "      <td>10029085</td>\n",
       "      <td>B0081UZ1IM</td>\n",
       "      <td>966651038</td>\n",
       "      <td>2012-12-07</td>\n",
       "    </tr>\n",
       "    <tr>\n",
       "      <th>7</th>\n",
       "      <td>R1000SHT04I05Z</td>\n",
       "      <td>10989386</td>\n",
       "      <td>B00BC9ZCFQ</td>\n",
       "      <td>412268594</td>\n",
       "      <td>2013-08-04</td>\n",
       "    </tr>\n",
       "    <tr>\n",
       "      <th>8</th>\n",
       "      <td>R10010TBOVNUO4</td>\n",
       "      <td>17423394</td>\n",
       "      <td>B006MLAZ1U</td>\n",
       "      <td>215482165</td>\n",
       "      <td>2014-01-01</td>\n",
       "    </tr>\n",
       "    <tr>\n",
       "      <th>9</th>\n",
       "      <td>R10012XDTDWWNL</td>\n",
       "      <td>48076968</td>\n",
       "      <td>B007CLW9OU</td>\n",
       "      <td>442344843</td>\n",
       "      <td>2013-08-13</td>\n",
       "    </tr>\n",
       "  </tbody>\n",
       "</table>\n",
       "</div>\n",
       "      <button class=\"colab-df-convert\" onclick=\"convertToInteractive('df-6b0c29f1-2fc9-417a-a12b-54a0b26c254b')\"\n",
       "              title=\"Convert this dataframe to an interactive table.\"\n",
       "              style=\"display:none;\">\n",
       "        \n",
       "  <svg xmlns=\"http://www.w3.org/2000/svg\" height=\"24px\"viewBox=\"0 0 24 24\"\n",
       "       width=\"24px\">\n",
       "    <path d=\"M0 0h24v24H0V0z\" fill=\"none\"/>\n",
       "    <path d=\"M18.56 5.44l.94 2.06.94-2.06 2.06-.94-2.06-.94-.94-2.06-.94 2.06-2.06.94zm-11 1L8.5 8.5l.94-2.06 2.06-.94-2.06-.94L8.5 2.5l-.94 2.06-2.06.94zm10 10l.94 2.06.94-2.06 2.06-.94-2.06-.94-.94-2.06-.94 2.06-2.06.94z\"/><path d=\"M17.41 7.96l-1.37-1.37c-.4-.4-.92-.59-1.43-.59-.52 0-1.04.2-1.43.59L10.3 9.45l-7.72 7.72c-.78.78-.78 2.05 0 2.83L4 21.41c.39.39.9.59 1.41.59.51 0 1.02-.2 1.41-.59l7.78-7.78 2.81-2.81c.8-.78.8-2.07 0-2.86zM5.41 20L4 18.59l7.72-7.72 1.47 1.35L5.41 20z\"/>\n",
       "  </svg>\n",
       "      </button>\n",
       "      \n",
       "  <style>\n",
       "    .colab-df-container {\n",
       "      display:flex;\n",
       "      flex-wrap:wrap;\n",
       "      gap: 12px;\n",
       "    }\n",
       "\n",
       "    .colab-df-convert {\n",
       "      background-color: #E8F0FE;\n",
       "      border: none;\n",
       "      border-radius: 50%;\n",
       "      cursor: pointer;\n",
       "      display: none;\n",
       "      fill: #1967D2;\n",
       "      height: 32px;\n",
       "      padding: 0 0 0 0;\n",
       "      width: 32px;\n",
       "    }\n",
       "\n",
       "    .colab-df-convert:hover {\n",
       "      background-color: #E2EBFA;\n",
       "      box-shadow: 0px 1px 2px rgba(60, 64, 67, 0.3), 0px 1px 3px 1px rgba(60, 64, 67, 0.15);\n",
       "      fill: #174EA6;\n",
       "    }\n",
       "\n",
       "    [theme=dark] .colab-df-convert {\n",
       "      background-color: #3B4455;\n",
       "      fill: #D2E3FC;\n",
       "    }\n",
       "\n",
       "    [theme=dark] .colab-df-convert:hover {\n",
       "      background-color: #434B5C;\n",
       "      box-shadow: 0px 1px 3px 1px rgba(0, 0, 0, 0.15);\n",
       "      filter: drop-shadow(0px 1px 2px rgba(0, 0, 0, 0.3));\n",
       "      fill: #FFFFFF;\n",
       "    }\n",
       "  </style>\n",
       "\n",
       "      <script>\n",
       "        const buttonEl =\n",
       "          document.querySelector('#df-6b0c29f1-2fc9-417a-a12b-54a0b26c254b button.colab-df-convert');\n",
       "        buttonEl.style.display =\n",
       "          google.colab.kernel.accessAllowed ? 'block' : 'none';\n",
       "\n",
       "        async function convertToInteractive(key) {\n",
       "          const element = document.querySelector('#df-6b0c29f1-2fc9-417a-a12b-54a0b26c254b');\n",
       "          const dataTable =\n",
       "            await google.colab.kernel.invokeFunction('convertToInteractive',\n",
       "                                                     [key], {});\n",
       "          if (!dataTable) return;\n",
       "\n",
       "          const docLinkHtml = 'Like what you see? Visit the ' +\n",
       "            '<a target=\"_blank\" href=https://colab.research.google.com/notebooks/data_table.ipynb>data table notebook</a>'\n",
       "            + ' to learn more about interactive tables.';\n",
       "          element.innerHTML = '';\n",
       "          dataTable['output_type'] = 'display_data';\n",
       "          await google.colab.output.renderOutput(dataTable, element);\n",
       "          const docLink = document.createElement('div');\n",
       "          docLink.innerHTML = docLinkHtml;\n",
       "          element.appendChild(docLink);\n",
       "        }\n",
       "      </script>\n",
       "    </div>\n",
       "  </div>\n",
       "  "
      ],
      "text/plain": [
       "        review_id  customer_id  product_id  product_parent review_date\n",
       "0  R10005JR1IGG86     11648838  B006TZD3UE       901709591  2015-05-16\n",
       "1  R1000B8KVRGOT6     44638290  B0055QMWQ4       198494984  2011-11-03\n",
       "2  R1000CD3O7K5WJ     38782999  B001WAJ1VG       543653291  2013-12-30\n",
       "3  R1000FU14WWHDX     42582359  B00685TZ7U        65032446  2014-10-12\n",
       "4  R1000K64W2C84Z     48529991  B005XA6VNM       597885458  2012-07-25\n",
       "5  R1000PP8QPZI4X      1377334  B0088UR61A       705684231  2014-07-13\n",
       "6  R1000SBIDE1D05     10029085  B0081UZ1IM       966651038  2012-12-07\n",
       "7  R1000SHT04I05Z     10989386  B00BC9ZCFQ       412268594  2013-08-04\n",
       "8  R10010TBOVNUO4     17423394  B006MLAZ1U       215482165  2014-01-01\n",
       "9  R10012XDTDWWNL     48076968  B007CLW9OU       442344843  2013-08-13"
      ]
     },
     "execution_count": 4,
     "metadata": {},
     "output_type": "execute_result"
    }
   ],
   "source": [
    "review_df.head(10)"
   ]
  },
  {
   "cell_type": "markdown",
   "metadata": {
    "id": "iQSf9Gh6lrFd"
   },
   "source": [
    "#### Read vine data from SQL database"
   ]
  },
  {
   "cell_type": "code",
   "execution_count": 5,
   "metadata": {
    "executionInfo": {
     "elapsed": 16260,
     "status": "ok",
     "timestamp": 1669175958444,
     "user": {
      "displayName": "maimycooking",
      "userId": "04453323271186493674"
     },
     "user_tz": 360
    },
    "id": "Cfd91GC6gPFL"
   },
   "outputs": [],
   "source": [
    "product_vine_df = pd.read_sql('select * from vine_table',connection)"
   ]
  },
  {
   "cell_type": "markdown",
   "metadata": {
    "id": "lMK9blczl2GV"
   },
   "source": [
    "#### Merge vine and review product data"
   ]
  },
  {
   "cell_type": "code",
   "execution_count": 6,
   "metadata": {
    "colab": {
     "base_uri": "https://localhost:8080/",
     "height": 206
    },
    "executionInfo": {
     "elapsed": 11280,
     "status": "ok",
     "timestamp": 1669175977902,
     "user": {
      "displayName": "maimycooking",
      "userId": "04453323271186493674"
     },
     "user_tz": 360
    },
    "id": "qGFsPbOUcYUE",
    "outputId": "73761fcb-ec03-46c1-ff46-c474e9211ff9"
   },
   "outputs": [
    {
     "data": {
      "text/html": [
       "\n",
       "  <div id=\"df-1391f935-23a0-4c8d-8ec7-8151fb51b124\">\n",
       "    <div class=\"colab-df-container\">\n",
       "      <div>\n",
       "<style scoped>\n",
       "    .dataframe tbody tr th:only-of-type {\n",
       "        vertical-align: middle;\n",
       "    }\n",
       "\n",
       "    .dataframe tbody tr th {\n",
       "        vertical-align: top;\n",
       "    }\n",
       "\n",
       "    .dataframe thead th {\n",
       "        text-align: right;\n",
       "    }\n",
       "</style>\n",
       "<table border=\"1\" class=\"dataframe\">\n",
       "  <thead>\n",
       "    <tr style=\"text-align: right;\">\n",
       "      <th></th>\n",
       "      <th>review_id</th>\n",
       "      <th>customer_id</th>\n",
       "      <th>product_id</th>\n",
       "      <th>product_parent</th>\n",
       "      <th>review_date</th>\n",
       "      <th>star_rating</th>\n",
       "      <th>helpful_votes</th>\n",
       "      <th>total_votes</th>\n",
       "      <th>vine</th>\n",
       "    </tr>\n",
       "  </thead>\n",
       "  <tbody>\n",
       "    <tr>\n",
       "      <th>0</th>\n",
       "      <td>R10005JR1IGG86</td>\n",
       "      <td>11648838</td>\n",
       "      <td>B006TZD3UE</td>\n",
       "      <td>901709591</td>\n",
       "      <td>2015-05-16</td>\n",
       "      <td>5</td>\n",
       "      <td>0</td>\n",
       "      <td>0</td>\n",
       "      <td>N</td>\n",
       "    </tr>\n",
       "    <tr>\n",
       "      <th>1</th>\n",
       "      <td>R1000B8KVRGOT6</td>\n",
       "      <td>44638290</td>\n",
       "      <td>B0055QMWQ4</td>\n",
       "      <td>198494984</td>\n",
       "      <td>2011-11-03</td>\n",
       "      <td>2</td>\n",
       "      <td>0</td>\n",
       "      <td>0</td>\n",
       "      <td>N</td>\n",
       "    </tr>\n",
       "    <tr>\n",
       "      <th>2</th>\n",
       "      <td>R1000CD3O7K5WJ</td>\n",
       "      <td>38782999</td>\n",
       "      <td>B001WAJ1VG</td>\n",
       "      <td>543653291</td>\n",
       "      <td>2013-12-30</td>\n",
       "      <td>2</td>\n",
       "      <td>0</td>\n",
       "      <td>0</td>\n",
       "      <td>N</td>\n",
       "    </tr>\n",
       "    <tr>\n",
       "      <th>3</th>\n",
       "      <td>R1000FU14WWHDX</td>\n",
       "      <td>42582359</td>\n",
       "      <td>B00685TZ7U</td>\n",
       "      <td>65032446</td>\n",
       "      <td>2014-10-12</td>\n",
       "      <td>4</td>\n",
       "      <td>0</td>\n",
       "      <td>0</td>\n",
       "      <td>N</td>\n",
       "    </tr>\n",
       "    <tr>\n",
       "      <th>4</th>\n",
       "      <td>R1000K64W2C84Z</td>\n",
       "      <td>48529991</td>\n",
       "      <td>B005XA6VNM</td>\n",
       "      <td>597885458</td>\n",
       "      <td>2012-07-25</td>\n",
       "      <td>4</td>\n",
       "      <td>0</td>\n",
       "      <td>0</td>\n",
       "      <td>N</td>\n",
       "    </tr>\n",
       "  </tbody>\n",
       "</table>\n",
       "</div>\n",
       "      <button class=\"colab-df-convert\" onclick=\"convertToInteractive('df-1391f935-23a0-4c8d-8ec7-8151fb51b124')\"\n",
       "              title=\"Convert this dataframe to an interactive table.\"\n",
       "              style=\"display:none;\">\n",
       "        \n",
       "  <svg xmlns=\"http://www.w3.org/2000/svg\" height=\"24px\"viewBox=\"0 0 24 24\"\n",
       "       width=\"24px\">\n",
       "    <path d=\"M0 0h24v24H0V0z\" fill=\"none\"/>\n",
       "    <path d=\"M18.56 5.44l.94 2.06.94-2.06 2.06-.94-2.06-.94-.94-2.06-.94 2.06-2.06.94zm-11 1L8.5 8.5l.94-2.06 2.06-.94-2.06-.94L8.5 2.5l-.94 2.06-2.06.94zm10 10l.94 2.06.94-2.06 2.06-.94-2.06-.94-.94-2.06-.94 2.06-2.06.94z\"/><path d=\"M17.41 7.96l-1.37-1.37c-.4-.4-.92-.59-1.43-.59-.52 0-1.04.2-1.43.59L10.3 9.45l-7.72 7.72c-.78.78-.78 2.05 0 2.83L4 21.41c.39.39.9.59 1.41.59.51 0 1.02-.2 1.41-.59l7.78-7.78 2.81-2.81c.8-.78.8-2.07 0-2.86zM5.41 20L4 18.59l7.72-7.72 1.47 1.35L5.41 20z\"/>\n",
       "  </svg>\n",
       "      </button>\n",
       "      \n",
       "  <style>\n",
       "    .colab-df-container {\n",
       "      display:flex;\n",
       "      flex-wrap:wrap;\n",
       "      gap: 12px;\n",
       "    }\n",
       "\n",
       "    .colab-df-convert {\n",
       "      background-color: #E8F0FE;\n",
       "      border: none;\n",
       "      border-radius: 50%;\n",
       "      cursor: pointer;\n",
       "      display: none;\n",
       "      fill: #1967D2;\n",
       "      height: 32px;\n",
       "      padding: 0 0 0 0;\n",
       "      width: 32px;\n",
       "    }\n",
       "\n",
       "    .colab-df-convert:hover {\n",
       "      background-color: #E2EBFA;\n",
       "      box-shadow: 0px 1px 2px rgba(60, 64, 67, 0.3), 0px 1px 3px 1px rgba(60, 64, 67, 0.15);\n",
       "      fill: #174EA6;\n",
       "    }\n",
       "\n",
       "    [theme=dark] .colab-df-convert {\n",
       "      background-color: #3B4455;\n",
       "      fill: #D2E3FC;\n",
       "    }\n",
       "\n",
       "    [theme=dark] .colab-df-convert:hover {\n",
       "      background-color: #434B5C;\n",
       "      box-shadow: 0px 1px 3px 1px rgba(0, 0, 0, 0.15);\n",
       "      filter: drop-shadow(0px 1px 2px rgba(0, 0, 0, 0.3));\n",
       "      fill: #FFFFFF;\n",
       "    }\n",
       "  </style>\n",
       "\n",
       "      <script>\n",
       "        const buttonEl =\n",
       "          document.querySelector('#df-1391f935-23a0-4c8d-8ec7-8151fb51b124 button.colab-df-convert');\n",
       "        buttonEl.style.display =\n",
       "          google.colab.kernel.accessAllowed ? 'block' : 'none';\n",
       "\n",
       "        async function convertToInteractive(key) {\n",
       "          const element = document.querySelector('#df-1391f935-23a0-4c8d-8ec7-8151fb51b124');\n",
       "          const dataTable =\n",
       "            await google.colab.kernel.invokeFunction('convertToInteractive',\n",
       "                                                     [key], {});\n",
       "          if (!dataTable) return;\n",
       "\n",
       "          const docLinkHtml = 'Like what you see? Visit the ' +\n",
       "            '<a target=\"_blank\" href=https://colab.research.google.com/notebooks/data_table.ipynb>data table notebook</a>'\n",
       "            + ' to learn more about interactive tables.';\n",
       "          element.innerHTML = '';\n",
       "          dataTable['output_type'] = 'display_data';\n",
       "          await google.colab.output.renderOutput(dataTable, element);\n",
       "          const docLink = document.createElement('div');\n",
       "          docLink.innerHTML = docLinkHtml;\n",
       "          element.appendChild(docLink);\n",
       "        }\n",
       "      </script>\n",
       "    </div>\n",
       "  </div>\n",
       "  "
      ],
      "text/plain": [
       "        review_id  customer_id  product_id  product_parent review_date  \\\n",
       "0  R10005JR1IGG86     11648838  B006TZD3UE       901709591  2015-05-16   \n",
       "1  R1000B8KVRGOT6     44638290  B0055QMWQ4       198494984  2011-11-03   \n",
       "2  R1000CD3O7K5WJ     38782999  B001WAJ1VG       543653291  2013-12-30   \n",
       "3  R1000FU14WWHDX     42582359  B00685TZ7U        65032446  2014-10-12   \n",
       "4  R1000K64W2C84Z     48529991  B005XA6VNM       597885458  2012-07-25   \n",
       "\n",
       "   star_rating  helpful_votes  total_votes vine  \n",
       "0            5              0            0    N  \n",
       "1            2              0            0    N  \n",
       "2            2              0            0    N  \n",
       "3            4              0            0    N  \n",
       "4            4              0            0    N  "
      ]
     },
     "execution_count": 6,
     "metadata": {},
     "output_type": "execute_result"
    }
   ],
   "source": [
    "# join necessary dataframe to determine vine and other data analysis about the review\n",
    "# joined review data and vine data \n",
    "joined_review_vine = review_df.merge(product_vine_df, how=\"inner\")\n",
    "joined_review_vine.head()"
   ]
  },
  {
   "cell_type": "markdown",
   "metadata": {
    "id": "-2S64UXFlRhN"
   },
   "source": [
    "#### Figure 1 - Analysis Scatter Plot"
   ]
  },
  {
   "cell_type": "code",
   "execution_count": 7,
   "metadata": {
    "colab": {
     "base_uri": "https://localhost:8080/",
     "height": 297
    },
    "executionInfo": {
     "elapsed": 13591,
     "status": "ok",
     "timestamp": 1669175995946,
     "user": {
      "displayName": "maimycooking",
      "userId": "04453323271186493674"
     },
     "user_tz": 360
    },
    "id": "SK4dcXPruqhN",
    "outputId": "9d313b86-f14e-4933-e0cb-6e9c3c23cb33"
   },
   "outputs": [
    {
     "data": {
      "text/plain": [
       "<matplotlib.axes._subplots.AxesSubplot at 0x7fec5264a550>"
      ]
     },
     "execution_count": 7,
     "metadata": {},
     "output_type": "execute_result"
    },
    {
     "data": {
      "image/png": "[encoded data removed]",
      "text/plain": [
       "<Figure size 432x288 with 1 Axes>"
      ]
     },
     "metadata": {
      "needs_background": "light"
     },
     "output_type": "display_data"
    }
   ],
   "source": [
    "joined_review_vine.plot.scatter(x='star_rating',y='helpful_votes')"
   ]
  },
  {
   "cell_type": "markdown",
   "metadata": {
    "id": "irmepHzapRZV"
   },
   "source": [
    "## Conclusion\n",
    "A scatter plot was used to graph the joined_review_vine dataframe and the star_rating from our helpful_votes pretty much show us that there are two start ratings matters are the least from 1.0 to the best rating which is a 5.0. The other ratings are just noise. In conclusion, people will only view the worst to the very best when they are looking to make a purchase on Amazon."
   ]
  },
  {
   "cell_type": "code",
   "execution_count": null,
   "metadata": {
    "id": "o_yG0EeurHSp"
   },
   "outputs": [],
   "source": []
  }
 ],
 "metadata": {
  "colab": {
   "authorship_tag": "ABX9TyN6zIm0uQR8Q+NJkSAp5FL4",
   "provenance": []
  },
  "kernelspec": {
   "display_name": "Python 3 (ipykernel)",
   "language": "python",
   "name": "python3"
  },
  "language_info": {
   "codemirror_mode": {
    "name": "ipython",
    "version": 3
   },
   "file_extension": ".py",
   "mimetype": "text/x-python",
   "name": "python",
   "nbconvert_exporter": "python",
   "pygments_lexer": "ipython3",
   "version": "3.8.13"
  }
 },
 "nbformat": 4,
 "nbformat_minor": 1
}
